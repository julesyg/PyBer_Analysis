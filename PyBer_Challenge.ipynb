{
 "cells": [
  {
   "cell_type": "markdown",
   "metadata": {},
   "source": [
    "# Pyber Challenge"
   ]
  },
  {
   "cell_type": "markdown",
   "metadata": {},
   "source": [
    "### 4.3 Loading and Reading CSV files"
   ]
  },
  {
   "cell_type": "code",
   "execution_count": 1,
   "metadata": {},
   "outputs": [],
   "source": [
    "# Add Matplotlib inline magic command\n",
    "%matplotlib inline\n",
    "\n",
    "# Dependencies and Setup\n",
    "import matplotlib.pyplot as plt\n",
    "import pandas as pd\n",
    "\n",
    "# File to Load (Remember to change these)\n",
    "\n",
    "city_data_to_load = \"Resources/city_data.csv\"\n",
    "ride_data_to_load = \"Resources/ride_data.csv\"\n",
    "\n",
    "# Read the City and Ride Data\n",
    "\n",
    "city_data_df = pd.read_csv(city_data_to_load)\n",
    "ride_data_df = pd.read_csv(ride_data_to_load)"
   ]
  },
  {
   "cell_type": "markdown",
   "metadata": {},
   "source": [
    "### Merge the DataFrames"
   ]
  },
  {
   "cell_type": "code",
   "execution_count": 2,
   "metadata": {
    "scrolled": true
   },
   "outputs": [
    {
     "data": {
      "text/html": [
       "<div>\n",
       "<style scoped>\n",
       "    .dataframe tbody tr th:only-of-type {\n",
       "        vertical-align: middle;\n",
       "    }\n",
       "\n",
       "    .dataframe tbody tr th {\n",
       "        vertical-align: top;\n",
       "    }\n",
       "\n",
       "    .dataframe thead th {\n",
       "        text-align: right;\n",
       "    }\n",
       "</style>\n",
       "<table border=\"1\" class=\"dataframe\">\n",
       "  <thead>\n",
       "    <tr style=\"text-align: right;\">\n",
       "      <th></th>\n",
       "      <th>city</th>\n",
       "      <th>date</th>\n",
       "      <th>fare</th>\n",
       "      <th>ride_id</th>\n",
       "      <th>driver_count</th>\n",
       "      <th>type</th>\n",
       "    </tr>\n",
       "  </thead>\n",
       "  <tbody>\n",
       "    <tr>\n",
       "      <th>0</th>\n",
       "      <td>Lake Jonathanshire</td>\n",
       "      <td>2019-01-14 10:14</td>\n",
       "      <td>13.83</td>\n",
       "      <td>5.740000e+12</td>\n",
       "      <td>5</td>\n",
       "      <td>Urban</td>\n",
       "    </tr>\n",
       "    <tr>\n",
       "      <th>1</th>\n",
       "      <td>South Michelleport</td>\n",
       "      <td>2019-03-04 18:24</td>\n",
       "      <td>30.24</td>\n",
       "      <td>2.340000e+12</td>\n",
       "      <td>72</td>\n",
       "      <td>Urban</td>\n",
       "    </tr>\n",
       "    <tr>\n",
       "      <th>2</th>\n",
       "      <td>Port Samanthamouth</td>\n",
       "      <td>2019-02-24 4:29</td>\n",
       "      <td>33.44</td>\n",
       "      <td>2.010000e+12</td>\n",
       "      <td>57</td>\n",
       "      <td>Urban</td>\n",
       "    </tr>\n",
       "    <tr>\n",
       "      <th>3</th>\n",
       "      <td>Rodneyfort</td>\n",
       "      <td>2019-02-10 23:22</td>\n",
       "      <td>23.44</td>\n",
       "      <td>5.150000e+12</td>\n",
       "      <td>34</td>\n",
       "      <td>Urban</td>\n",
       "    </tr>\n",
       "    <tr>\n",
       "      <th>4</th>\n",
       "      <td>South Jack</td>\n",
       "      <td>2019-03-06 4:28</td>\n",
       "      <td>34.58</td>\n",
       "      <td>3.910000e+12</td>\n",
       "      <td>46</td>\n",
       "      <td>Urban</td>\n",
       "    </tr>\n",
       "  </tbody>\n",
       "</table>\n",
       "</div>"
      ],
      "text/plain": [
       "                 city              date   fare       ride_id  driver_count  \\\n",
       "0  Lake Jonathanshire  2019-01-14 10:14  13.83  5.740000e+12             5   \n",
       "1  South Michelleport  2019-03-04 18:24  30.24  2.340000e+12            72   \n",
       "2  Port Samanthamouth   2019-02-24 4:29  33.44  2.010000e+12            57   \n",
       "3          Rodneyfort  2019-02-10 23:22  23.44  5.150000e+12            34   \n",
       "4          South Jack   2019-03-06 4:28  34.58  3.910000e+12            46   \n",
       "\n",
       "    type  \n",
       "0  Urban  \n",
       "1  Urban  \n",
       "2  Urban  \n",
       "3  Urban  \n",
       "4  Urban  "
      ]
     },
     "execution_count": 2,
     "metadata": {},
     "output_type": "execute_result"
    }
   ],
   "source": [
    "# Combine the data into a single dataset\n",
    "pyber_data_df = pd.merge(ride_data_df, city_data_df, how=\"left\", on=[\"city\", \"city\"])\n",
    "\n",
    "# Display the data table for preview\n",
    "pyber_data_df.head()"
   ]
  },
  {
   "cell_type": "markdown",
   "metadata": {},
   "source": [
    "## Deliverable 1: Get a Summary DataFrame "
   ]
  },
  {
   "cell_type": "code",
   "execution_count": 3,
   "metadata": {},
   "outputs": [
    {
     "data": {
      "text/plain": [
       "type\n",
       "Rural        125\n",
       "Suburban     625\n",
       "Urban       1625\n",
       "Name: ride_id, dtype: int64"
      ]
     },
     "execution_count": 3,
     "metadata": {},
     "output_type": "execute_result"
    }
   ],
   "source": [
    "#  1. Get the total rides for each city type\n",
    "\n",
    "urban_cities_df = pyber_data_df[pyber_data_df[\"type\"] == \"Urban\"]\n",
    "suburban_cities_df = pyber_data_df[pyber_data_df[\"type\"] == \"Suburban\"]\n",
    "rural_cities_df = pyber_data_df[pyber_data_df[\"type\"] == \"Rural\"]\n",
    "\n",
    "ride_count_by_type = pyber_data_df.groupby([\"type\"]).count()[\"ride_id\"]\n",
    "ride_count_by_type"
   ]
  },
  {
   "cell_type": "code",
   "execution_count": 4,
   "metadata": {},
   "outputs": [
    {
     "data": {
      "text/plain": [
       "type\n",
       "Rural         78\n",
       "Suburban     490\n",
       "Urban       2405\n",
       "Name: driver_count, dtype: int64"
      ]
     },
     "execution_count": 4,
     "metadata": {},
     "output_type": "execute_result"
    }
   ],
   "source": [
    "# 2. Get the total drivers for each city type\n",
    "\n",
    "total_drivers_by_type = city_data_df.groupby([\"type\"]).sum()[\"driver_count\"]\n",
    "total_drivers_by_type"
   ]
  },
  {
   "cell_type": "code",
   "execution_count": 5,
   "metadata": {},
   "outputs": [
    {
     "data": {
      "text/plain": [
       "type\n",
       "Rural        4327.93\n",
       "Suburban    19356.33\n",
       "Urban       39854.38\n",
       "Name: fare, dtype: float64"
      ]
     },
     "execution_count": 5,
     "metadata": {},
     "output_type": "execute_result"
    }
   ],
   "source": [
    "#  3. Get the total amount of fares for each city type\n",
    "\n",
    "sum_fares_by_type = pyber_data_df.groupby([\"type\"]).sum()[\"fare\"]\n",
    "sum_fares_by_type"
   ]
  },
  {
   "cell_type": "code",
   "execution_count": 6,
   "metadata": {},
   "outputs": [
    {
     "data": {
      "text/plain": [
       "type\n",
       "Rural       34.623440\n",
       "Suburban    30.970128\n",
       "Urban       24.525772\n",
       "dtype: float64"
      ]
     },
     "execution_count": 6,
     "metadata": {},
     "output_type": "execute_result"
    }
   ],
   "source": [
    "#  4. Get the average fare per ride for each city type. \n",
    "# dividing the sum of all the fares by the total rides.\n",
    "\n",
    "avg_fare_by_type = sum_fares_by_type / ride_count_by_type \n",
    "avg_fare_by_type\n"
   ]
  },
  {
   "cell_type": "code",
   "execution_count": 7,
   "metadata": {},
   "outputs": [
    {
     "data": {
      "text/plain": [
       "type\n",
       "Rural       55.486282\n",
       "Suburban    39.502714\n",
       "Urban       16.571468\n",
       "dtype: float64"
      ]
     },
     "execution_count": 7,
     "metadata": {},
     "output_type": "execute_result"
    }
   ],
   "source": [
    "# 5. Get the average fare per driver for each city type. \n",
    "# dividing the sum of all the fares by the total drivers.\n",
    "\n",
    "avg_driver_fare_by_type = sum_fares_by_type / total_drivers_by_type \n",
    "avg_driver_fare_by_type\n"
   ]
  },
  {
   "cell_type": "code",
   "execution_count": 8,
   "metadata": {},
   "outputs": [
    {
     "data": {
      "text/html": [
       "<div>\n",
       "<style scoped>\n",
       "    .dataframe tbody tr th:only-of-type {\n",
       "        vertical-align: middle;\n",
       "    }\n",
       "\n",
       "    .dataframe tbody tr th {\n",
       "        vertical-align: top;\n",
       "    }\n",
       "\n",
       "    .dataframe thead th {\n",
       "        text-align: right;\n",
       "    }\n",
       "</style>\n",
       "<table border=\"1\" class=\"dataframe\">\n",
       "  <thead>\n",
       "    <tr style=\"text-align: right;\">\n",
       "      <th></th>\n",
       "      <th>Total Rides</th>\n",
       "      <th>Total Drivers</th>\n",
       "      <th>Total Fare</th>\n",
       "      <th>Average Fare per Ride</th>\n",
       "      <th>Average Fare per Driver</th>\n",
       "    </tr>\n",
       "    <tr>\n",
       "      <th>type</th>\n",
       "      <th></th>\n",
       "      <th></th>\n",
       "      <th></th>\n",
       "      <th></th>\n",
       "      <th></th>\n",
       "    </tr>\n",
       "  </thead>\n",
       "  <tbody>\n",
       "    <tr>\n",
       "      <th>Rural</th>\n",
       "      <td>125</td>\n",
       "      <td>78</td>\n",
       "      <td>4327.93</td>\n",
       "      <td>34.623440</td>\n",
       "      <td>55.486282</td>\n",
       "    </tr>\n",
       "    <tr>\n",
       "      <th>Suburban</th>\n",
       "      <td>625</td>\n",
       "      <td>490</td>\n",
       "      <td>19356.33</td>\n",
       "      <td>30.970128</td>\n",
       "      <td>39.502714</td>\n",
       "    </tr>\n",
       "    <tr>\n",
       "      <th>Urban</th>\n",
       "      <td>1625</td>\n",
       "      <td>2405</td>\n",
       "      <td>39854.38</td>\n",
       "      <td>24.525772</td>\n",
       "      <td>16.571468</td>\n",
       "    </tr>\n",
       "  </tbody>\n",
       "</table>\n",
       "</div>"
      ],
      "text/plain": [
       "          Total Rides  Total Drivers  Total Fare  Average Fare per Ride  \\\n",
       "type                                                                      \n",
       "Rural             125             78     4327.93              34.623440   \n",
       "Suburban          625            490    19356.33              30.970128   \n",
       "Urban            1625           2405    39854.38              24.525772   \n",
       "\n",
       "          Average Fare per Driver  \n",
       "type                               \n",
       "Rural                   55.486282  \n",
       "Suburban                39.502714  \n",
       "Urban                   16.571468  "
      ]
     },
     "execution_count": 8,
     "metadata": {},
     "output_type": "execute_result"
    }
   ],
   "source": [
    "#  6. Create a PyBer summary DataFrame. \n",
    "# PyBer summary DataFrame with all the data gathered from Steps 1-5, using the column names shown below:.\n",
    "\n",
    "pyber_summary_df = pd.DataFrame({\"Total Rides\": ride_count_by_type, \n",
    "                                 \"Total Drivers\": total_drivers_by_type, \n",
    "                                 \"Total Fare\": sum_fares_by_type,\n",
    "                                \"Average Fare per Ride\" : avg_fare_by_type,\n",
    "                                \"Average Fare per Driver\" : avg_driver_fare_by_type})\n",
    "pyber_summary_df"
   ]
  },
  {
   "cell_type": "code",
   "execution_count": 9,
   "metadata": {},
   "outputs": [],
   "source": [
    "#  7. Cleaning up the DataFrame. Delete the index name\n",
    "\n",
    "pyber_summary_df.index.name = None"
   ]
  },
  {
   "cell_type": "code",
   "execution_count": 10,
   "metadata": {},
   "outputs": [
    {
     "data": {
      "text/html": [
       "<div>\n",
       "<style scoped>\n",
       "    .dataframe tbody tr th:only-of-type {\n",
       "        vertical-align: middle;\n",
       "    }\n",
       "\n",
       "    .dataframe tbody tr th {\n",
       "        vertical-align: top;\n",
       "    }\n",
       "\n",
       "    .dataframe thead th {\n",
       "        text-align: right;\n",
       "    }\n",
       "</style>\n",
       "<table border=\"1\" class=\"dataframe\">\n",
       "  <thead>\n",
       "    <tr style=\"text-align: right;\">\n",
       "      <th></th>\n",
       "      <th>Total Rides</th>\n",
       "      <th>Total Drivers</th>\n",
       "      <th>Total Fare</th>\n",
       "      <th>Average Fare per Ride</th>\n",
       "      <th>Average Fare per Driver</th>\n",
       "    </tr>\n",
       "  </thead>\n",
       "  <tbody>\n",
       "    <tr>\n",
       "      <th>Rural</th>\n",
       "      <td>125</td>\n",
       "      <td>78</td>\n",
       "      <td>$4,327.93</td>\n",
       "      <td>$34.62</td>\n",
       "      <td>$55.49</td>\n",
       "    </tr>\n",
       "    <tr>\n",
       "      <th>Suburban</th>\n",
       "      <td>625</td>\n",
       "      <td>490</td>\n",
       "      <td>$19,356.33</td>\n",
       "      <td>$30.97</td>\n",
       "      <td>$39.50</td>\n",
       "    </tr>\n",
       "    <tr>\n",
       "      <th>Urban</th>\n",
<<<<<<< Updated upstream
       "      <td>1,625</td>\n",
       "      <td>2,405</td>\n",
=======
       "      <td>1625</td>\n",
       "      <td>2405</td>\n",
>>>>>>> Stashed changes
       "      <td>$39,854.38</td>\n",
       "      <td>$24.53</td>\n",
       "      <td>$16.57</td>\n",
       "    </tr>\n",
       "  </tbody>\n",
       "</table>\n",
       "</div>"
      ],
      "text/plain": [
<<<<<<< Updated upstream
       "         Total Rides Total Drivers  Total Fare Average Fare per Ride  \\\n",
       "Rural            125            78   $4,327.93                $34.62   \n",
       "Suburban         625           490  $19,356.33                $30.97   \n",
       "Urban          1,625         2,405  $39,854.38                $24.53   \n",
       "\n",
       "         Average Fare per Driver  \n",
       "Rural                     $55.49  \n",
       "Suburban                  $39.50  \n",
       "Urban                     $16.57  "
=======
       "          Total Rides  Total Drivers  Total Fare  Average Fare per Ride  \\\n",
       "Rural             125             78   $4,327.93                 $34.62   \n",
       "Suburban          625            490  $19,356.33                 $30.97   \n",
       "Urban            1625           2405  $39,854.38                 $24.53   \n",
       "\n",
       "          Average Fare per Driver  \n",
       "Rural                      $55.49  \n",
       "Suburban                   $39.50  \n",
       "Urban                      $16.57  "
>>>>>>> Stashed changes
      ]
     },
     "execution_count": 10,
     "metadata": {},
     "output_type": "execute_result"
    }
   ],
   "source": [
<<<<<<< Updated upstream
    "#  8. Format the columns.\n",
    "pyber_summary_df['Total Rides'] = pyber_summary_df['Total Rides'].map(\"{:,}\".format)\n",
    "pyber_summary_df['Total Drivers'] = pyber_summary_df['Total Drivers'].map(\"{:,}\".format)\n",
    "pyber_summary_df['Total Fare'] = pyber_summary_df['Total Fare'].map(\"${:,.2f}\".format)\n",
    "pyber_summary_df['Average Fare per Ride'] = pyber_summary_df['Average Fare per Ride'].map(\"${:,.2f}\".format)\n",
    "pyber_summary_df['Average Fare per Driver'] = pyber_summary_df['Average Fare per Driver'].map(\"${:,.2f}\".format)\n",
    "pyber_summary_df"
=======
    "#  8. Format the columns\n",
    "\n",
    "pd.options.display.float_format = '${:,.2f}'.format\n",
    "pyber_summary_df.head()"
>>>>>>> Stashed changes
   ]
  },
  {
   "cell_type": "markdown",
   "metadata": {},
   "source": [
    "## Deliverable 2.  Create a multiple line plot that shows the total weekly of the fares for each type of city."
   ]
  },
  {
   "cell_type": "code",
   "execution_count": 11,
   "metadata": {},
   "outputs": [
    {
     "data": {
      "text/html": [
       "<div>\n",
       "<style scoped>\n",
       "    .dataframe tbody tr th:only-of-type {\n",
       "        vertical-align: middle;\n",
       "    }\n",
       "\n",
       "    .dataframe tbody tr th {\n",
       "        vertical-align: top;\n",
       "    }\n",
       "\n",
       "    .dataframe thead th {\n",
       "        text-align: right;\n",
       "    }\n",
       "</style>\n",
       "<table border=\"1\" class=\"dataframe\">\n",
       "  <thead>\n",
       "    <tr style=\"text-align: right;\">\n",
       "      <th></th>\n",
       "      <th>city</th>\n",
       "      <th>date</th>\n",
       "      <th>fare</th>\n",
       "      <th>ride_id</th>\n",
       "      <th>driver_count</th>\n",
       "      <th>type</th>\n",
       "    </tr>\n",
       "  </thead>\n",
       "  <tbody>\n",
       "    <tr>\n",
       "      <th>0</th>\n",
       "      <td>Lake Jonathanshire</td>\n",
       "      <td>2019-01-14 10:14</td>\n",
<<<<<<< Updated upstream
       "      <td>13.83</td>\n",
       "      <td>5.740000e+12</td>\n",
=======
       "      <td>$13.83</td>\n",
       "      <td>$5,740,000,000,000.00</td>\n",
>>>>>>> Stashed changes
       "      <td>5</td>\n",
       "      <td>Urban</td>\n",
       "    </tr>\n",
       "    <tr>\n",
       "      <th>1</th>\n",
       "      <td>South Michelleport</td>\n",
       "      <td>2019-03-04 18:24</td>\n",
<<<<<<< Updated upstream
       "      <td>30.24</td>\n",
       "      <td>2.340000e+12</td>\n",
=======
       "      <td>$30.24</td>\n",
       "      <td>$2,340,000,000,000.00</td>\n",
>>>>>>> Stashed changes
       "      <td>72</td>\n",
       "      <td>Urban</td>\n",
       "    </tr>\n",
       "    <tr>\n",
       "      <th>2</th>\n",
       "      <td>Port Samanthamouth</td>\n",
       "      <td>2019-02-24 4:29</td>\n",
<<<<<<< Updated upstream
       "      <td>33.44</td>\n",
       "      <td>2.010000e+12</td>\n",
=======
       "      <td>$33.44</td>\n",
       "      <td>$2,010,000,000,000.00</td>\n",
>>>>>>> Stashed changes
       "      <td>57</td>\n",
       "      <td>Urban</td>\n",
       "    </tr>\n",
       "    <tr>\n",
       "      <th>3</th>\n",
       "      <td>Rodneyfort</td>\n",
       "      <td>2019-02-10 23:22</td>\n",
<<<<<<< Updated upstream
       "      <td>23.44</td>\n",
       "      <td>5.150000e+12</td>\n",
=======
       "      <td>$23.44</td>\n",
       "      <td>$5,150,000,000,000.00</td>\n",
>>>>>>> Stashed changes
       "      <td>34</td>\n",
       "      <td>Urban</td>\n",
       "    </tr>\n",
       "    <tr>\n",
       "      <th>4</th>\n",
       "      <td>South Jack</td>\n",
       "      <td>2019-03-06 4:28</td>\n",
<<<<<<< Updated upstream
       "      <td>34.58</td>\n",
       "      <td>3.910000e+12</td>\n",
=======
       "      <td>$34.58</td>\n",
       "      <td>$3,910,000,000,000.00</td>\n",
>>>>>>> Stashed changes
       "      <td>46</td>\n",
       "      <td>Urban</td>\n",
       "    </tr>\n",
       "  </tbody>\n",
       "</table>\n",
       "</div>"
      ],
      "text/plain": [
<<<<<<< Updated upstream
       "                 city              date   fare       ride_id  driver_count  \\\n",
       "0  Lake Jonathanshire  2019-01-14 10:14  13.83  5.740000e+12             5   \n",
       "1  South Michelleport  2019-03-04 18:24  30.24  2.340000e+12            72   \n",
       "2  Port Samanthamouth   2019-02-24 4:29  33.44  2.010000e+12            57   \n",
       "3          Rodneyfort  2019-02-10 23:22  23.44  5.150000e+12            34   \n",
       "4          South Jack   2019-03-06 4:28  34.58  3.910000e+12            46   \n",
       "\n",
       "    type  \n",
       "0  Urban  \n",
       "1  Urban  \n",
       "2  Urban  \n",
       "3  Urban  \n",
       "4  Urban  "
=======
       "                 city              date   fare               ride_id  \\\n",
       "0  Lake Jonathanshire  2019-01-14 10:14 $13.83 $5,740,000,000,000.00   \n",
       "1  South Michelleport  2019-03-04 18:24 $30.24 $2,340,000,000,000.00   \n",
       "2  Port Samanthamouth   2019-02-24 4:29 $33.44 $2,010,000,000,000.00   \n",
       "3          Rodneyfort  2019-02-10 23:22 $23.44 $5,150,000,000,000.00   \n",
       "4          South Jack   2019-03-06 4:28 $34.58 $3,910,000,000,000.00   \n",
       "\n",
       "   driver_count   type  \n",
       "0             5  Urban  \n",
       "1            72  Urban  \n",
       "2            57  Urban  \n",
       "3            34  Urban  \n",
       "4            46  Urban  "
>>>>>>> Stashed changes
      ]
     },
     "execution_count": 11,
     "metadata": {},
     "output_type": "execute_result"
    }
   ],
   "source": [
    "# 1. Read the merged DataFrame\n",
    "\n",
    "pyber_data_df = pd.merge(ride_data_df, city_data_df, how=\"left\", on=[\"city\", \"city\"])\n",
    "pyber_data_df.head()"
   ]
  },
  {
   "cell_type": "code",
   "execution_count": 12,
   "metadata": {},
   "outputs": [
    {
     "data": {
      "text/html": [
       "<div>\n",
       "<style scoped>\n",
       "    .dataframe tbody tr th:only-of-type {\n",
       "        vertical-align: middle;\n",
       "    }\n",
       "\n",
       "    .dataframe tbody tr th {\n",
       "        vertical-align: top;\n",
       "    }\n",
       "\n",
       "    .dataframe thead th {\n",
       "        text-align: right;\n",
       "    }\n",
       "</style>\n",
       "<table border=\"1\" class=\"dataframe\">\n",
       "  <thead>\n",
       "    <tr style=\"text-align: right;\">\n",
       "      <th></th>\n",
       "      <th></th>\n",
       "      <th>fare</th>\n",
       "    </tr>\n",
       "    <tr>\n",
       "      <th>date</th>\n",
       "      <th>type</th>\n",
       "      <th></th>\n",
       "    </tr>\n",
       "  </thead>\n",
       "  <tbody>\n",
       "    <tr>\n",
       "      <th>2019-01-01 0:08</th>\n",
       "      <th>Urban</th>\n",
<<<<<<< Updated upstream
       "      <td>37.91</td>\n",
=======
       "      <td>$37.91</td>\n",
>>>>>>> Stashed changes
       "    </tr>\n",
       "    <tr>\n",
       "      <th>2019-01-01 0:46</th>\n",
       "      <th>Suburban</th>\n",
<<<<<<< Updated upstream
       "      <td>47.74</td>\n",
=======
       "      <td>$47.74</td>\n",
>>>>>>> Stashed changes
       "    </tr>\n",
       "    <tr>\n",
       "      <th>2019-01-01 12:32</th>\n",
       "      <th>Suburban</th>\n",
<<<<<<< Updated upstream
       "      <td>25.56</td>\n",
=======
       "      <td>$25.56</td>\n",
>>>>>>> Stashed changes
       "    </tr>\n",
       "    <tr>\n",
       "      <th>2019-01-01 14:40</th>\n",
       "      <th>Urban</th>\n",
<<<<<<< Updated upstream
       "      <td>5.42</td>\n",
=======
       "      <td>$5.42</td>\n",
>>>>>>> Stashed changes
       "    </tr>\n",
       "    <tr>\n",
       "      <th>2019-01-01 14:42</th>\n",
       "      <th>Urban</th>\n",
<<<<<<< Updated upstream
       "      <td>12.31</td>\n",
=======
       "      <td>$12.31</td>\n",
>>>>>>> Stashed changes
       "    </tr>\n",
       "  </tbody>\n",
       "</table>\n",
       "</div>"
      ],
      "text/plain": [
       "                            fare\n",
       "date             type           \n",
<<<<<<< Updated upstream
       "2019-01-01 0:08  Urban     37.91\n",
       "2019-01-01 0:46  Suburban  47.74\n",
       "2019-01-01 12:32 Suburban  25.56\n",
       "2019-01-01 14:40 Urban      5.42\n",
       "2019-01-01 14:42 Urban     12.31"
=======
       "2019-01-01 0:08  Urban    $37.91\n",
       "2019-01-01 0:46  Suburban $47.74\n",
       "2019-01-01 12:32 Suburban $25.56\n",
       "2019-01-01 14:40 Urban     $5.42\n",
       "2019-01-01 14:42 Urban    $12.31"
>>>>>>> Stashed changes
      ]
     },
     "execution_count": 12,
     "metadata": {},
     "output_type": "execute_result"
    }
   ],
   "source": [
    "# 2. Using groupby() to create a new DataFrame showing the sum of the fares \n",
    "#  for each date where the indices are the city type and date.\n",
    "\n",
    "pivot_data_df = pyber_data_df.groupby([\"date\", \"type\"]).sum()[[\"fare\"]]\n",
    "pivot_data_df.head()"
   ]
  },
  {
   "cell_type": "code",
   "execution_count": 13,
   "metadata": {},
   "outputs": [
    {
     "data": {
      "text/html": [
       "<div>\n",
       "<style scoped>\n",
       "    .dataframe tbody tr th:only-of-type {\n",
       "        vertical-align: middle;\n",
       "    }\n",
       "\n",
       "    .dataframe tbody tr th {\n",
       "        vertical-align: top;\n",
       "    }\n",
       "\n",
       "    .dataframe thead th {\n",
       "        text-align: right;\n",
       "    }\n",
       "</style>\n",
       "<table border=\"1\" class=\"dataframe\">\n",
       "  <thead>\n",
       "    <tr style=\"text-align: right;\">\n",
       "      <th></th>\n",
       "      <th>date</th>\n",
       "      <th>type</th>\n",
       "      <th>fare</th>\n",
       "    </tr>\n",
       "  </thead>\n",
       "  <tbody>\n",
       "    <tr>\n",
       "      <th>2354</th>\n",
       "      <td>2019-05-07 5:55</td>\n",
       "      <td>Urban</td>\n",
<<<<<<< Updated upstream
       "      <td>6.89</td>\n",
=======
       "      <td>$6.89</td>\n",
>>>>>>> Stashed changes
       "    </tr>\n",
       "    <tr>\n",
       "      <th>2355</th>\n",
       "      <td>2019-05-07 7:08</td>\n",
       "      <td>Suburban</td>\n",
<<<<<<< Updated upstream
       "      <td>20.52</td>\n",
=======
       "      <td>$20.52</td>\n",
>>>>>>> Stashed changes
       "    </tr>\n",
       "    <tr>\n",
       "      <th>2356</th>\n",
       "      <td>2019-05-07 8:47</td>\n",
       "      <td>Urban</td>\n",
<<<<<<< Updated upstream
       "      <td>25.83</td>\n",
=======
       "      <td>$25.83</td>\n",
>>>>>>> Stashed changes
       "    </tr>\n",
       "    <tr>\n",
       "      <th>2357</th>\n",
       "      <td>2019-05-08 11:38</td>\n",
       "      <td>Urban</td>\n",
<<<<<<< Updated upstream
       "      <td>19.77</td>\n",
=======
       "      <td>$19.77</td>\n",
>>>>>>> Stashed changes
       "    </tr>\n",
       "    <tr>\n",
       "      <th>2358</th>\n",
       "      <td>2019-05-08 13:10</td>\n",
       "      <td>Urban</td>\n",
<<<<<<< Updated upstream
       "      <td>18.04</td>\n",
=======
       "      <td>$18.04</td>\n",
>>>>>>> Stashed changes
       "    </tr>\n",
       "    <tr>\n",
       "      <th>2359</th>\n",
       "      <td>2019-05-08 1:54</td>\n",
       "      <td>Urban</td>\n",
<<<<<<< Updated upstream
       "      <td>32.69</td>\n",
=======
       "      <td>$32.69</td>\n",
>>>>>>> Stashed changes
       "    </tr>\n",
       "    <tr>\n",
       "      <th>2360</th>\n",
       "      <td>2019-05-08 2:31</td>\n",
       "      <td>Urban</td>\n",
<<<<<<< Updated upstream
       "      <td>41.33</td>\n",
=======
       "      <td>$41.33</td>\n",
>>>>>>> Stashed changes
       "    </tr>\n",
       "    <tr>\n",
       "      <th>2361</th>\n",
       "      <td>2019-05-08 4:20</td>\n",
       "      <td>Urban</td>\n",
<<<<<<< Updated upstream
       "      <td>21.99</td>\n",
=======
       "      <td>$21.99</td>\n",
>>>>>>> Stashed changes
       "    </tr>\n",
       "    <tr>\n",
       "      <th>2362</th>\n",
       "      <td>2019-05-08 4:39</td>\n",
       "      <td>Urban</td>\n",
<<<<<<< Updated upstream
       "      <td>18.45</td>\n",
=======
       "      <td>$18.45</td>\n",
>>>>>>> Stashed changes
       "    </tr>\n",
       "    <tr>\n",
       "      <th>2363</th>\n",
       "      <td>2019-05-08 7:29</td>\n",
       "      <td>Urban</td>\n",
<<<<<<< Updated upstream
       "      <td>18.55</td>\n",
=======
       "      <td>$18.55</td>\n",
>>>>>>> Stashed changes
       "    </tr>\n",
       "  </tbody>\n",
       "</table>\n",
       "</div>"
      ],
      "text/plain": [
       "                  date      type   fare\n",
<<<<<<< Updated upstream
       "2354   2019-05-07 5:55     Urban   6.89\n",
       "2355   2019-05-07 7:08  Suburban  20.52\n",
       "2356   2019-05-07 8:47     Urban  25.83\n",
       "2357  2019-05-08 11:38     Urban  19.77\n",
       "2358  2019-05-08 13:10     Urban  18.04\n",
       "2359   2019-05-08 1:54     Urban  32.69\n",
       "2360   2019-05-08 2:31     Urban  41.33\n",
       "2361   2019-05-08 4:20     Urban  21.99\n",
       "2362   2019-05-08 4:39     Urban  18.45\n",
       "2363   2019-05-08 7:29     Urban  18.55"
=======
       "2354   2019-05-07 5:55     Urban  $6.89\n",
       "2355   2019-05-07 7:08  Suburban $20.52\n",
       "2356   2019-05-07 8:47     Urban $25.83\n",
       "2357  2019-05-08 11:38     Urban $19.77\n",
       "2358  2019-05-08 13:10     Urban $18.04\n",
       "2359   2019-05-08 1:54     Urban $32.69\n",
       "2360   2019-05-08 2:31     Urban $41.33\n",
       "2361   2019-05-08 4:20     Urban $21.99\n",
       "2362   2019-05-08 4:39     Urban $18.45\n",
       "2363   2019-05-08 7:29     Urban $18.55"
>>>>>>> Stashed changes
      ]
     },
     "execution_count": 13,
     "metadata": {},
     "output_type": "execute_result"
    }
   ],
   "source": [
    "# 3. Reset the index on the DataFrame you created in #1. This is needed to use the 'pivot()' function.\n",
    "\n",
    "pivot_data_df = pivot_data_df.reset_index()\n",
    "pivot_data_df.tail(10)"
   ]
  },
  {
   "cell_type": "code",
   "execution_count": 14,
   "metadata": {},
   "outputs": [
    {
     "data": {
      "text/html": [
       "<div>\n",
       "<style scoped>\n",
       "    .dataframe tbody tr th:only-of-type {\n",
       "        vertical-align: middle;\n",
       "    }\n",
       "\n",
       "    .dataframe tbody tr th {\n",
       "        vertical-align: top;\n",
       "    }\n",
       "\n",
       "    .dataframe thead th {\n",
       "        text-align: right;\n",
       "    }\n",
       "</style>\n",
       "<table border=\"1\" class=\"dataframe\">\n",
       "  <thead>\n",
       "    <tr style=\"text-align: right;\">\n",
       "      <th>type</th>\n",
       "      <th>Rural</th>\n",
       "      <th>Suburban</th>\n",
       "      <th>Urban</th>\n",
       "    </tr>\n",
       "    <tr>\n",
       "      <th>date</th>\n",
       "      <th></th>\n",
       "      <th></th>\n",
       "      <th></th>\n",
       "    </tr>\n",
       "  </thead>\n",
       "  <tbody>\n",
       "    <tr>\n",
       "      <th>2019-01-01 0:08</th>\n",
       "      <td>NaN</td>\n",
       "      <td>NaN</td>\n",
<<<<<<< Updated upstream
       "      <td>37.91</td>\n",
=======
       "      <td>$37.91</td>\n",
>>>>>>> Stashed changes
       "    </tr>\n",
       "    <tr>\n",
       "      <th>2019-01-01 0:46</th>\n",
       "      <td>NaN</td>\n",
<<<<<<< Updated upstream
       "      <td>47.74</td>\n",
=======
       "      <td>$47.74</td>\n",
>>>>>>> Stashed changes
       "      <td>NaN</td>\n",
       "    </tr>\n",
       "    <tr>\n",
       "      <th>2019-01-01 12:32</th>\n",
       "      <td>NaN</td>\n",
<<<<<<< Updated upstream
       "      <td>25.56</td>\n",
=======
       "      <td>$25.56</td>\n",
>>>>>>> Stashed changes
       "      <td>NaN</td>\n",
       "    </tr>\n",
       "    <tr>\n",
       "      <th>2019-01-01 14:40</th>\n",
       "      <td>NaN</td>\n",
       "      <td>NaN</td>\n",
<<<<<<< Updated upstream
       "      <td>5.42</td>\n",
=======
       "      <td>$5.42</td>\n",
>>>>>>> Stashed changes
       "    </tr>\n",
       "    <tr>\n",
       "      <th>2019-01-01 14:42</th>\n",
       "      <td>NaN</td>\n",
       "      <td>NaN</td>\n",
<<<<<<< Updated upstream
       "      <td>12.31</td>\n",
=======
       "      <td>$12.31</td>\n",
>>>>>>> Stashed changes
       "    </tr>\n",
       "    <tr>\n",
       "      <th>2019-01-01 14:52</th>\n",
       "      <td>NaN</td>\n",
<<<<<<< Updated upstream
       "      <td>31.15</td>\n",
=======
       "      <td>$31.15</td>\n",
>>>>>>> Stashed changes
       "      <td>NaN</td>\n",
       "    </tr>\n",
       "    <tr>\n",
       "      <th>2019-01-01 17:22</th>\n",
       "      <td>NaN</td>\n",
       "      <td>NaN</td>\n",
<<<<<<< Updated upstream
       "      <td>42.11</td>\n",
=======
       "      <td>$42.11</td>\n",
>>>>>>> Stashed changes
       "    </tr>\n",
       "    <tr>\n",
       "      <th>2019-01-01 21:04</th>\n",
       "      <td>NaN</td>\n",
       "      <td>NaN</td>\n",
<<<<<<< Updated upstream
       "      <td>11.71</td>\n",
=======
       "      <td>$11.71</td>\n",
>>>>>>> Stashed changes
       "    </tr>\n",
       "    <tr>\n",
       "      <th>2019-01-01 2:07</th>\n",
       "      <td>NaN</td>\n",
<<<<<<< Updated upstream
       "      <td>24.07</td>\n",
=======
       "      <td>$24.07</td>\n",
>>>>>>> Stashed changes
       "      <td>NaN</td>\n",
       "    </tr>\n",
       "    <tr>\n",
       "      <th>2019-01-01 3:46</th>\n",
       "      <td>NaN</td>\n",
       "      <td>NaN</td>\n",
<<<<<<< Updated upstream
       "      <td>7.57</td>\n",
=======
       "      <td>$7.57</td>\n",
>>>>>>> Stashed changes
       "    </tr>\n",
       "  </tbody>\n",
       "</table>\n",
       "</div>"
      ],
      "text/plain": [
       "type              Rural  Suburban  Urban\n",
       "date                                    \n",
<<<<<<< Updated upstream
       "2019-01-01 0:08     NaN       NaN  37.91\n",
       "2019-01-01 0:46     NaN     47.74    NaN\n",
       "2019-01-01 12:32    NaN     25.56    NaN\n",
       "2019-01-01 14:40    NaN       NaN   5.42\n",
       "2019-01-01 14:42    NaN       NaN  12.31\n",
       "2019-01-01 14:52    NaN     31.15    NaN\n",
       "2019-01-01 17:22    NaN       NaN  42.11\n",
       "2019-01-01 21:04    NaN       NaN  11.71\n",
       "2019-01-01 2:07     NaN     24.07    NaN\n",
       "2019-01-01 3:46     NaN       NaN   7.57"
=======
       "2019-01-01 0:08     NaN       NaN $37.91\n",
       "2019-01-01 0:46     NaN    $47.74    NaN\n",
       "2019-01-01 12:32    NaN    $25.56    NaN\n",
       "2019-01-01 14:40    NaN       NaN  $5.42\n",
       "2019-01-01 14:42    NaN       NaN $12.31\n",
       "2019-01-01 14:52    NaN    $31.15    NaN\n",
       "2019-01-01 17:22    NaN       NaN $42.11\n",
       "2019-01-01 21:04    NaN       NaN $11.71\n",
       "2019-01-01 2:07     NaN    $24.07    NaN\n",
       "2019-01-01 3:46     NaN       NaN  $7.57"
>>>>>>> Stashed changes
      ]
     },
     "execution_count": 14,
     "metadata": {},
     "output_type": "execute_result"
    }
   ],
   "source": [
    "# 4. Create a pivot table with the 'date' as the index, the columns ='type', and values='fare' \n",
    "# to get the total fares for each type of city by the date. \n",
    "\n",
    "pivot_data_df = pivot_data_df.pivot(index = \"date\", columns = \"type\", values = \"fare\")\n",
    "pivot_data_df.head(10)"
   ]
  },
  {
   "cell_type": "code",
   "execution_count": 15,
   "metadata": {},
   "outputs": [
    {
     "data": {
      "text/html": [
       "<div>\n",
       "<style scoped>\n",
       "    .dataframe tbody tr th:only-of-type {\n",
       "        vertical-align: middle;\n",
       "    }\n",
       "\n",
       "    .dataframe tbody tr th {\n",
       "        vertical-align: top;\n",
       "    }\n",
       "\n",
       "    .dataframe thead th {\n",
       "        text-align: right;\n",
       "    }\n",
       "</style>\n",
       "<table border=\"1\" class=\"dataframe\">\n",
       "  <thead>\n",
       "    <tr style=\"text-align: right;\">\n",
       "      <th>type</th>\n",
       "      <th>Rural</th>\n",
       "      <th>Suburban</th>\n",
       "      <th>Urban</th>\n",
       "    </tr>\n",
       "    <tr>\n",
       "      <th>date</th>\n",
       "      <th></th>\n",
       "      <th></th>\n",
       "      <th></th>\n",
       "    </tr>\n",
       "  </thead>\n",
       "  <tbody>\n",
       "    <tr>\n",
       "      <th>2019-01-01 0:08</th>\n",
       "      <td>NaN</td>\n",
       "      <td>NaN</td>\n",
<<<<<<< Updated upstream
       "      <td>37.91</td>\n",
=======
       "      <td>$37.91</td>\n",
>>>>>>> Stashed changes
       "    </tr>\n",
       "    <tr>\n",
       "      <th>2019-01-01 0:46</th>\n",
       "      <td>NaN</td>\n",
<<<<<<< Updated upstream
       "      <td>47.74</td>\n",
=======
       "      <td>$47.74</td>\n",
>>>>>>> Stashed changes
       "      <td>NaN</td>\n",
       "    </tr>\n",
       "    <tr>\n",
       "      <th>2019-01-01 12:32</th>\n",
       "      <td>NaN</td>\n",
<<<<<<< Updated upstream
       "      <td>25.56</td>\n",
=======
       "      <td>$25.56</td>\n",
>>>>>>> Stashed changes
       "      <td>NaN</td>\n",
       "    </tr>\n",
       "    <tr>\n",
       "      <th>2019-01-01 14:40</th>\n",
       "      <td>NaN</td>\n",
       "      <td>NaN</td>\n",
<<<<<<< Updated upstream
       "      <td>5.42</td>\n",
=======
       "      <td>$5.42</td>\n",
>>>>>>> Stashed changes
       "    </tr>\n",
       "    <tr>\n",
       "      <th>2019-01-01 14:42</th>\n",
       "      <td>NaN</td>\n",
       "      <td>NaN</td>\n",
<<<<<<< Updated upstream
       "      <td>12.31</td>\n",
=======
       "      <td>$12.31</td>\n",
>>>>>>> Stashed changes
       "    </tr>\n",
       "    <tr>\n",
       "      <th>...</th>\n",
       "      <td>...</td>\n",
       "      <td>...</td>\n",
       "      <td>...</td>\n",
       "    </tr>\n",
       "    <tr>\n",
       "      <th>2019-04-28 4:34</th>\n",
       "      <td>NaN</td>\n",
       "      <td>NaN</td>\n",
<<<<<<< Updated upstream
       "      <td>40.46</td>\n",
=======
       "      <td>$40.46</td>\n",
>>>>>>> Stashed changes
       "    </tr>\n",
       "    <tr>\n",
       "      <th>2019-04-28 8:15</th>\n",
       "      <td>NaN</td>\n",
       "      <td>NaN</td>\n",
<<<<<<< Updated upstream
       "      <td>22.86</td>\n",
=======
       "      <td>$22.86</td>\n",
>>>>>>> Stashed changes
       "    </tr>\n",
       "    <tr>\n",
       "      <th>2019-04-28 9:03</th>\n",
       "      <td>NaN</td>\n",
       "      <td>NaN</td>\n",
<<<<<<< Updated upstream
       "      <td>15.00</td>\n",
=======
       "      <td>$15.00</td>\n",
>>>>>>> Stashed changes
       "    </tr>\n",
       "    <tr>\n",
       "      <th>2019-04-28 9:10</th>\n",
       "      <td>NaN</td>\n",
       "      <td>NaN</td>\n",
<<<<<<< Updated upstream
       "      <td>5.73</td>\n",
=======
       "      <td>$5.73</td>\n",
>>>>>>> Stashed changes
       "    </tr>\n",
       "    <tr>\n",
       "      <th>2019-04-28 9:25</th>\n",
       "      <td>NaN</td>\n",
       "      <td>NaN</td>\n",
<<<<<<< Updated upstream
       "      <td>37.35</td>\n",
=======
       "      <td>$37.35</td>\n",
>>>>>>> Stashed changes
       "    </tr>\n",
       "  </tbody>\n",
       "</table>\n",
       "<p>2182 rows × 3 columns</p>\n",
       "</div>"
      ],
      "text/plain": [
       "type              Rural  Suburban  Urban\n",
       "date                                    \n",
<<<<<<< Updated upstream
       "2019-01-01 0:08     NaN       NaN  37.91\n",
       "2019-01-01 0:46     NaN     47.74    NaN\n",
       "2019-01-01 12:32    NaN     25.56    NaN\n",
       "2019-01-01 14:40    NaN       NaN   5.42\n",
       "2019-01-01 14:42    NaN       NaN  12.31\n",
       "...                 ...       ...    ...\n",
       "2019-04-28 4:34     NaN       NaN  40.46\n",
       "2019-04-28 8:15     NaN       NaN  22.86\n",
       "2019-04-28 9:03     NaN       NaN  15.00\n",
       "2019-04-28 9:10     NaN       NaN   5.73\n",
       "2019-04-28 9:25     NaN       NaN  37.35\n",
=======
       "2019-01-01 0:08     NaN       NaN $37.91\n",
       "2019-01-01 0:46     NaN    $47.74    NaN\n",
       "2019-01-01 12:32    NaN    $25.56    NaN\n",
       "2019-01-01 14:40    NaN       NaN  $5.42\n",
       "2019-01-01 14:42    NaN       NaN $12.31\n",
       "...                 ...       ...    ...\n",
       "2019-04-28 4:34     NaN       NaN $40.46\n",
       "2019-04-28 8:15     NaN       NaN $22.86\n",
       "2019-04-28 9:03     NaN       NaN $15.00\n",
       "2019-04-28 9:10     NaN       NaN  $5.73\n",
       "2019-04-28 9:25     NaN       NaN $37.35\n",
>>>>>>> Stashed changes
       "\n",
       "[2182 rows x 3 columns]"
      ]
     },
     "execution_count": 15,
     "metadata": {},
     "output_type": "execute_result"
    }
   ],
   "source": [
    "# 5. Create a new DataFrame from the pivot table DataFrame using loc on the given dates, '2019-01-01':'2019-04-29'.\n",
    "\n",
    "pivot_data_df = pivot_data_df.loc['2019-01-01':'2019-04-29']\n",
    "pivot_data_df"
   ]
  },
  {
   "cell_type": "code",
   "execution_count": 16,
   "metadata": {},
   "outputs": [
    {
     "data": {
      "text/html": [
       "<div>\n",
       "<style scoped>\n",
       "    .dataframe tbody tr th:only-of-type {\n",
       "        vertical-align: middle;\n",
       "    }\n",
       "\n",
       "    .dataframe tbody tr th {\n",
       "        vertical-align: top;\n",
       "    }\n",
       "\n",
       "    .dataframe thead th {\n",
       "        text-align: right;\n",
       "    }\n",
       "</style>\n",
       "<table border=\"1\" class=\"dataframe\">\n",
       "  <thead>\n",
       "    <tr style=\"text-align: right;\">\n",
       "      <th>type</th>\n",
       "      <th>Rural</th>\n",
       "      <th>Suburban</th>\n",
       "      <th>Urban</th>\n",
       "    </tr>\n",
       "    <tr>\n",
       "      <th>date</th>\n",
       "      <th></th>\n",
       "      <th></th>\n",
       "      <th></th>\n",
       "    </tr>\n",
       "  </thead>\n",
       "  <tbody>\n",
       "    <tr>\n",
       "      <th>2019-01-01 00:08:00</th>\n",
       "      <td>NaN</td>\n",
       "      <td>NaN</td>\n",
<<<<<<< Updated upstream
       "      <td>37.91</td>\n",
=======
       "      <td>$37.91</td>\n",
>>>>>>> Stashed changes
       "    </tr>\n",
       "    <tr>\n",
       "      <th>2019-01-01 00:46:00</th>\n",
       "      <td>NaN</td>\n",
<<<<<<< Updated upstream
       "      <td>47.74</td>\n",
=======
       "      <td>$47.74</td>\n",
>>>>>>> Stashed changes
       "      <td>NaN</td>\n",
       "    </tr>\n",
       "    <tr>\n",
       "      <th>2019-01-01 12:32:00</th>\n",
       "      <td>NaN</td>\n",
<<<<<<< Updated upstream
       "      <td>25.56</td>\n",
=======
       "      <td>$25.56</td>\n",
>>>>>>> Stashed changes
       "      <td>NaN</td>\n",
       "    </tr>\n",
       "    <tr>\n",
       "      <th>2019-01-01 14:40:00</th>\n",
       "      <td>NaN</td>\n",
       "      <td>NaN</td>\n",
<<<<<<< Updated upstream
       "      <td>5.42</td>\n",
=======
       "      <td>$5.42</td>\n",
>>>>>>> Stashed changes
       "    </tr>\n",
       "    <tr>\n",
       "      <th>2019-01-01 14:42:00</th>\n",
       "      <td>NaN</td>\n",
       "      <td>NaN</td>\n",
<<<<<<< Updated upstream
       "      <td>12.31</td>\n",
=======
       "      <td>$12.31</td>\n",
>>>>>>> Stashed changes
       "    </tr>\n",
       "    <tr>\n",
       "      <th>...</th>\n",
       "      <td>...</td>\n",
       "      <td>...</td>\n",
       "      <td>...</td>\n",
       "    </tr>\n",
       "    <tr>\n",
       "      <th>2019-04-28 04:34:00</th>\n",
       "      <td>NaN</td>\n",
       "      <td>NaN</td>\n",
<<<<<<< Updated upstream
       "      <td>40.46</td>\n",
=======
       "      <td>$40.46</td>\n",
>>>>>>> Stashed changes
       "    </tr>\n",
       "    <tr>\n",
       "      <th>2019-04-28 08:15:00</th>\n",
       "      <td>NaN</td>\n",
       "      <td>NaN</td>\n",
<<<<<<< Updated upstream
       "      <td>22.86</td>\n",
=======
       "      <td>$22.86</td>\n",
>>>>>>> Stashed changes
       "    </tr>\n",
       "    <tr>\n",
       "      <th>2019-04-28 09:03:00</th>\n",
       "      <td>NaN</td>\n",
       "      <td>NaN</td>\n",
<<<<<<< Updated upstream
       "      <td>15.00</td>\n",
=======
       "      <td>$15.00</td>\n",
>>>>>>> Stashed changes
       "    </tr>\n",
       "    <tr>\n",
       "      <th>2019-04-28 09:10:00</th>\n",
       "      <td>NaN</td>\n",
       "      <td>NaN</td>\n",
<<<<<<< Updated upstream
       "      <td>5.73</td>\n",
=======
       "      <td>$5.73</td>\n",
>>>>>>> Stashed changes
       "    </tr>\n",
       "    <tr>\n",
       "      <th>2019-04-28 09:25:00</th>\n",
       "      <td>NaN</td>\n",
       "      <td>NaN</td>\n",
<<<<<<< Updated upstream
       "      <td>37.35</td>\n",
=======
       "      <td>$37.35</td>\n",
>>>>>>> Stashed changes
       "    </tr>\n",
       "  </tbody>\n",
       "</table>\n",
       "<p>2182 rows × 3 columns</p>\n",
       "</div>"
      ],
      "text/plain": [
       "type                 Rural  Suburban  Urban\n",
       "date                                       \n",
<<<<<<< Updated upstream
       "2019-01-01 00:08:00    NaN       NaN  37.91\n",
       "2019-01-01 00:46:00    NaN     47.74    NaN\n",
       "2019-01-01 12:32:00    NaN     25.56    NaN\n",
       "2019-01-01 14:40:00    NaN       NaN   5.42\n",
       "2019-01-01 14:42:00    NaN       NaN  12.31\n",
       "...                    ...       ...    ...\n",
       "2019-04-28 04:34:00    NaN       NaN  40.46\n",
       "2019-04-28 08:15:00    NaN       NaN  22.86\n",
       "2019-04-28 09:03:00    NaN       NaN  15.00\n",
       "2019-04-28 09:10:00    NaN       NaN   5.73\n",
       "2019-04-28 09:25:00    NaN       NaN  37.35\n",
=======
       "2019-01-01 00:08:00    NaN       NaN $37.91\n",
       "2019-01-01 00:46:00    NaN    $47.74    NaN\n",
       "2019-01-01 12:32:00    NaN    $25.56    NaN\n",
       "2019-01-01 14:40:00    NaN       NaN  $5.42\n",
       "2019-01-01 14:42:00    NaN       NaN $12.31\n",
       "...                    ...       ...    ...\n",
       "2019-04-28 04:34:00    NaN       NaN $40.46\n",
       "2019-04-28 08:15:00    NaN       NaN $22.86\n",
       "2019-04-28 09:03:00    NaN       NaN $15.00\n",
       "2019-04-28 09:10:00    NaN       NaN  $5.73\n",
       "2019-04-28 09:25:00    NaN       NaN $37.35\n",
>>>>>>> Stashed changes
       "\n",
       "[2182 rows x 3 columns]"
      ]
     },
     "execution_count": 16,
     "metadata": {},
     "output_type": "execute_result"
    }
   ],
   "source": [
    "# 6. Set the \"date\" index to datetime datatype. This is necessary to use the resample() method in Step 8.\n",
    "\n",
    "pivot_data_df.index = pd.to_datetime(pivot_data_df.index)\n",
    "pivot_data_df"
   ]
  },
  {
   "cell_type": "code",
   "execution_count": 17,
   "metadata": {},
   "outputs": [
    {
     "name": "stdout",
     "output_type": "stream",
     "text": [
      "<class 'pandas.core.frame.DataFrame'>\n",
      "DatetimeIndex: 2182 entries, 2019-01-01 00:08:00 to 2019-04-28 09:25:00\n",
      "Data columns (total 3 columns):\n",
      " #   Column    Non-Null Count  Dtype  \n",
      "---  ------    --------------  -----  \n",
      " 0   Rural     114 non-null    float64\n",
      " 1   Suburban  570 non-null    float64\n",
      " 2   Urban     1501 non-null   float64\n",
      "dtypes: float64(3)\n",
      "memory usage: 68.2 KB\n"
     ]
    }
   ],
   "source": [
    "# 7. Check that the datatype for the index is datetime using df.info()\n",
    "\n",
    "pivot_data_df.info()"
   ]
  },
  {
   "cell_type": "code",
   "execution_count": 18,
   "metadata": {},
   "outputs": [
    {
     "data": {
      "text/html": [
       "<div>\n",
       "<style scoped>\n",
       "    .dataframe tbody tr th:only-of-type {\n",
       "        vertical-align: middle;\n",
       "    }\n",
       "\n",
       "    .dataframe tbody tr th {\n",
       "        vertical-align: top;\n",
       "    }\n",
       "\n",
       "    .dataframe thead th {\n",
       "        text-align: right;\n",
       "    }\n",
       "</style>\n",
       "<table border=\"1\" class=\"dataframe\">\n",
       "  <thead>\n",
       "    <tr style=\"text-align: right;\">\n",
       "      <th>type</th>\n",
       "      <th>Rural</th>\n",
       "      <th>Suburban</th>\n",
       "      <th>Urban</th>\n",
       "    </tr>\n",
       "    <tr>\n",
       "      <th>date</th>\n",
       "      <th></th>\n",
       "      <th></th>\n",
       "      <th></th>\n",
       "    </tr>\n",
       "  </thead>\n",
       "  <tbody>\n",
       "    <tr>\n",
       "      <th>2019-01-06</th>\n",
<<<<<<< Updated upstream
       "      <td>187.92</td>\n",
       "      <td>721.60</td>\n",
       "      <td>1661.68</td>\n",
       "    </tr>\n",
       "    <tr>\n",
       "      <th>2019-01-13</th>\n",
       "      <td>67.65</td>\n",
       "      <td>1105.13</td>\n",
       "      <td>2050.43</td>\n",
       "    </tr>\n",
       "    <tr>\n",
       "      <th>2019-01-20</th>\n",
       "      <td>306.00</td>\n",
       "      <td>1218.20</td>\n",
       "      <td>1939.02</td>\n",
       "    </tr>\n",
       "    <tr>\n",
       "      <th>2019-01-27</th>\n",
       "      <td>179.69</td>\n",
       "      <td>1203.28</td>\n",
       "      <td>2129.51</td>\n",
       "    </tr>\n",
       "    <tr>\n",
       "      <th>2019-02-03</th>\n",
       "      <td>333.08</td>\n",
       "      <td>1042.79</td>\n",
       "      <td>2086.94</td>\n",
       "    </tr>\n",
       "    <tr>\n",
       "      <th>2019-02-10</th>\n",
       "      <td>115.80</td>\n",
       "      <td>974.34</td>\n",
       "      <td>2162.64</td>\n",
       "    </tr>\n",
       "    <tr>\n",
       "      <th>2019-02-17</th>\n",
       "      <td>95.82</td>\n",
       "      <td>1045.50</td>\n",
       "      <td>2235.07</td>\n",
       "    </tr>\n",
       "    <tr>\n",
       "      <th>2019-02-24</th>\n",
       "      <td>419.06</td>\n",
       "      <td>1412.74</td>\n",
       "      <td>2466.29</td>\n",
       "    </tr>\n",
       "    <tr>\n",
       "      <th>2019-03-03</th>\n",
       "      <td>175.14</td>\n",
       "      <td>858.46</td>\n",
       "      <td>2218.20</td>\n",
       "    </tr>\n",
       "    <tr>\n",
       "      <th>2019-03-10</th>\n",
       "      <td>303.94</td>\n",
       "      <td>925.27</td>\n",
       "      <td>2470.93</td>\n",
=======
       "      <td>$187.92</td>\n",
       "      <td>$721.60</td>\n",
       "      <td>$1,661.68</td>\n",
       "    </tr>\n",
       "    <tr>\n",
       "      <th>2019-01-13</th>\n",
       "      <td>$67.65</td>\n",
       "      <td>$1,105.13</td>\n",
       "      <td>$2,050.43</td>\n",
       "    </tr>\n",
       "    <tr>\n",
       "      <th>2019-01-20</th>\n",
       "      <td>$306.00</td>\n",
       "      <td>$1,218.20</td>\n",
       "      <td>$1,939.02</td>\n",
       "    </tr>\n",
       "    <tr>\n",
       "      <th>2019-01-27</th>\n",
       "      <td>$179.69</td>\n",
       "      <td>$1,203.28</td>\n",
       "      <td>$2,129.51</td>\n",
       "    </tr>\n",
       "    <tr>\n",
       "      <th>2019-02-03</th>\n",
       "      <td>$333.08</td>\n",
       "      <td>$1,042.79</td>\n",
       "      <td>$2,086.94</td>\n",
       "    </tr>\n",
       "    <tr>\n",
       "      <th>2019-02-10</th>\n",
       "      <td>$115.80</td>\n",
       "      <td>$974.34</td>\n",
       "      <td>$2,162.64</td>\n",
       "    </tr>\n",
       "    <tr>\n",
       "      <th>2019-02-17</th>\n",
       "      <td>$95.82</td>\n",
       "      <td>$1,045.50</td>\n",
       "      <td>$2,235.07</td>\n",
       "    </tr>\n",
       "    <tr>\n",
       "      <th>2019-02-24</th>\n",
       "      <td>$419.06</td>\n",
       "      <td>$1,412.74</td>\n",
       "      <td>$2,466.29</td>\n",
       "    </tr>\n",
       "    <tr>\n",
       "      <th>2019-03-03</th>\n",
       "      <td>$175.14</td>\n",
       "      <td>$858.46</td>\n",
       "      <td>$2,218.20</td>\n",
       "    </tr>\n",
       "    <tr>\n",
       "      <th>2019-03-10</th>\n",
       "      <td>$303.94</td>\n",
       "      <td>$925.27</td>\n",
       "      <td>$2,470.93</td>\n",
>>>>>>> Stashed changes
       "    </tr>\n",
       "  </tbody>\n",
       "</table>\n",
       "</div>"
      ],
      "text/plain": [
<<<<<<< Updated upstream
       "type         Rural  Suburban    Urban\n",
       "date                                 \n",
       "2019-01-06  187.92    721.60  1661.68\n",
       "2019-01-13   67.65   1105.13  2050.43\n",
       "2019-01-20  306.00   1218.20  1939.02\n",
       "2019-01-27  179.69   1203.28  2129.51\n",
       "2019-02-03  333.08   1042.79  2086.94\n",
       "2019-02-10  115.80    974.34  2162.64\n",
       "2019-02-17   95.82   1045.50  2235.07\n",
       "2019-02-24  419.06   1412.74  2466.29\n",
       "2019-03-03  175.14    858.46  2218.20\n",
       "2019-03-10  303.94    925.27  2470.93"
=======
       "type         Rural  Suburban     Urban\n",
       "date                                  \n",
       "2019-01-06 $187.92   $721.60 $1,661.68\n",
       "2019-01-13  $67.65 $1,105.13 $2,050.43\n",
       "2019-01-20 $306.00 $1,218.20 $1,939.02\n",
       "2019-01-27 $179.69 $1,203.28 $2,129.51\n",
       "2019-02-03 $333.08 $1,042.79 $2,086.94\n",
       "2019-02-10 $115.80   $974.34 $2,162.64\n",
       "2019-02-17  $95.82 $1,045.50 $2,235.07\n",
       "2019-02-24 $419.06 $1,412.74 $2,466.29\n",
       "2019-03-03 $175.14   $858.46 $2,218.20\n",
       "2019-03-10 $303.94   $925.27 $2,470.93"
>>>>>>> Stashed changes
      ]
     },
     "execution_count": 18,
     "metadata": {},
     "output_type": "execute_result"
    }
   ],
   "source": [
    "# 8. Create a new DataFrame using the \"resample()\" function by week 'W' and get the sum of the fares for each week.\n",
    "\n",
    "pivot_data_by_week = pivot_data_df.resample(\"W\").sum()\n",
    "pivot_data_by_week.head(10)"
   ]
  },
  {
   "cell_type": "code",
<<<<<<< Updated upstream
   "execution_count": 19,
   "metadata": {},
   "outputs": [],
=======
   "execution_count": 21,
   "metadata": {},
   "outputs": [
    {
     "data": {
      "image/png": "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\n",
      "text/plain": [
       "<Figure size 2200x600 with 1 Axes>"
      ]
     },
     "metadata": {},
     "output_type": "display_data"
    }
   ],
>>>>>>> Stashed changes
   "source": [
    "# 8. Using the object-oriented interface method, plot the resample DataFrame using the df.plot() function. \n",
    "\n",
    "# Import the style from Matplotlib.\n",
    "from matplotlib import style\n",
    "# Use the graph style fivethirtyeight.\n",
    "style.use('fivethirtyeight')\n",
<<<<<<< Updated upstream
    "\n"
=======
    "\n",
    "ax = pivot_data_by_week.plot(figsize=(22,6))\n",
    "ax.set_title(\"Total Fare by City Type\", fontsize = '35')\n",
    "ax.set_xlabel(\"Date\", fontsize = '20')\n",
    "ax.set_ylabel(\"Fare($USD)\", fontsize = '20')\n",
    "ax.set_ylim(0, 2500)\n",
    "ax.legend()\n",
    "plt.savefig(\"Analysis/PyBer_fare_summary.png\")"
>>>>>>> Stashed changes
   ]
  },
  {
   "cell_type": "code",
   "execution_count": null,
   "metadata": {},
   "outputs": [],
   "source": []
  }
 ],
 "metadata": {
  "anaconda-cloud": {},
  "kernelspec": {
   "display_name": "PythonData",
   "language": "python",
   "name": "pythondata"
  },
  "language_info": {
   "codemirror_mode": {
    "name": "ipython",
    "version": 3
   },
   "file_extension": ".py",
   "mimetype": "text/x-python",
   "name": "python",
   "nbconvert_exporter": "python",
   "pygments_lexer": "ipython3",
   "version": "3.9.12"
  }
 },
 "nbformat": 4,
 "nbformat_minor": 2
}
